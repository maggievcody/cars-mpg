{
 "cells": [
  {
   "cell_type": "code",
   "execution_count": 1,
   "metadata": {},
   "outputs": [
    {
     "data": {
      "text/plain": [
       "[16.859, 23.440]"
      ]
     },
     "execution_count": 1,
     "metadata": {},
     "output_type": "execute_result"
    }
   ],
   "source": [
    "# Task 1\n",
    "# Purpose: Calculates the average miles per gallon (mpg) for \n",
    "# city driving and the average mpg for highway driving\n",
    "# Output: A list with two floats will be created. The first float will be the \n",
    "# average mpg for city driving and the second the average mpg for highway driving.\n",
    "\n",
    "import csv\n",
    "%precision 3\n",
    "1.0\n",
    "\n",
    "with open('cars_mpg.csv') as k:\n",
    "    mpg = list(csv.DictReader(k))\n",
    "    \n",
    "a = []\n",
    "a.append(sum(int(d['cty']) for d in mpg)/len(mpg))\n",
    "a.append(sum(int(u['hwy']) for u in mpg)/len(mpg))\n",
    "a"
   ]
  },
  {
   "cell_type": "code",
   "execution_count": 2,
   "metadata": {},
   "outputs": [
    {
     "data": {
      "text/plain": [
       "{'allude',\n",
       " 'chevron',\n",
       " 'doggie',\n",
       " 'freeway',\n",
       " 'honda',\n",
       " 'hyundai',\n",
       " 'jeep',\n",
       " 'land rover',\n",
       " 'lincoln',\n",
       " 'mercury',\n",
       " 'nissan',\n",
       " 'silver',\n",
       " 'subbie',\n",
       " 'tinker',\n",
       " 'volks'}"
      ]
     },
     "execution_count": 2,
     "metadata": {},
     "output_type": "execute_result"
    }
   ],
   "source": [
    "# Task 2\n",
    "# Purpose: Write code that displays a set of different types of manufacturers\n",
    "# Output: A set with different types of manufacturers will be created. \n",
    "\n",
    "manufacturers = set(c['manufacturer'] for c in mpg)\n",
    "manufacturers"
   ]
  },
  {
   "cell_type": "code",
   "execution_count": 3,
   "metadata": {},
   "outputs": [
    {
     "data": {
      "text/plain": [
       "[[('allude', 17.611),\n",
       "  ('land rover', 11.500),\n",
       "  ('jeep', 13.500),\n",
       "  ('doggie', 13.135),\n",
       "  ('mercury', 13.250),\n",
       "  ('freeway', 14.000),\n",
       "  ('lincoln', 11.333),\n",
       "  ('subbie', 19.286),\n",
       "  ('hyundai', 18.643),\n",
       "  ('silver', 17.000),\n",
       "  ('chevron', 15.000),\n",
       "  ('nissan', 18.077),\n",
       "  ('volks', 20.926),\n",
       "  ('tinker', 18.529),\n",
       "  ('honda', 24.444)],\n",
       " [('allude', 26.444),\n",
       "  ('land rover', 16.500),\n",
       "  ('jeep', 17.625),\n",
       "  ('doggie', 17.946),\n",
       "  ('mercury', 18.000),\n",
       "  ('freeway', 19.360),\n",
       "  ('lincoln', 17.000),\n",
       "  ('subbie', 25.571),\n",
       "  ('hyundai', 26.857),\n",
       "  ('silver', 26.400),\n",
       "  ('chevron', 21.895),\n",
       "  ('nissan', 24.615),\n",
       "  ('volks', 29.222),\n",
       "  ('tinker', 24.912),\n",
       "  ('honda', 32.556)]]"
      ]
     },
     "execution_count": 3,
     "metadata": {},
     "output_type": "execute_result"
    }
   ],
   "source": [
    "# Task 3\n",
    "# Purpose: write code that calculates the average miles per gallon (mpg) for \n",
    "# city driving and the average mpg for highway driving for each manufacturer\n",
    "# Output: a list with two lists will be created. The first float will be the \n",
    "# average mpg for city driving and the second the average mpg for highway driving.\n",
    "\n",
    "avgmpg = []\n",
    "ctympg = []\n",
    "hwympg = []\n",
    "for manu in manufacturers:\n",
    "    totalctympg = 0\n",
    "    countcty = 0\n",
    "    totalhwympg = 0\n",
    "    counthwy = 0\n",
    "    \n",
    "    for cty in mpg:\n",
    "        if cty['manufacturer'] == manu:\n",
    "            countcty = countcty + 1\n",
    "            totalctympg = totalctympg + float(cty['cty'])\n",
    "    ctympg.append((manu, totalctympg/countcty))\n",
    "    \n",
    "    \n",
    "    for hwy in mpg:\n",
    "        if hwy['manufacturer'] == manu:\n",
    "            counthwy = counthwy + 1\n",
    "            totalhwympg = totalhwympg + float(hwy['hwy'])\n",
    "    hwympg.append((manu, totalhwympg/counthwy))\n",
    "\n",
    "avgmpg.append(ctympg)\n",
    "avgmpg.append(hwympg)\n",
    "    \n",
    "avgmpg"
   ]
  },
  {
   "cell_type": "code",
   "execution_count": 4,
   "metadata": {},
   "outputs": [
    {
     "data": {
      "text/plain": [
       "[[('allude', 17.611),\n",
       "  ('chevron', 15.000),\n",
       "  ('doggie', 13.135),\n",
       "  ('freeway', 14.000),\n",
       "  ('honda', 24.444),\n",
       "  ('hyundai', 18.643),\n",
       "  ('jeep', 13.500),\n",
       "  ('land rover', 11.500),\n",
       "  ('lincoln', 11.333),\n",
       "  ('mercury', 13.250),\n",
       "  ('nissan', 18.077),\n",
       "  ('silver', 17.000),\n",
       "  ('subbie', 19.286),\n",
       "  ('tinker', 18.529),\n",
       "  ('volks', 20.926)],\n",
       " [('allude', 26.444),\n",
       "  ('chevron', 21.895),\n",
       "  ('doggie', 17.946),\n",
       "  ('freeway', 19.360),\n",
       "  ('honda', 32.556),\n",
       "  ('hyundai', 26.857),\n",
       "  ('jeep', 17.625),\n",
       "  ('land rover', 16.500),\n",
       "  ('lincoln', 17.000),\n",
       "  ('mercury', 18.000),\n",
       "  ('nissan', 24.615),\n",
       "  ('silver', 26.400),\n",
       "  ('subbie', 25.571),\n",
       "  ('tinker', 24.912),\n",
       "  ('volks', 29.222)]]"
      ]
     },
     "execution_count": 4,
     "metadata": {},
     "output_type": "execute_result"
    }
   ],
   "source": [
    "# Task 4\n",
    "# Purpose: Write the code that sorts these two lists by the mpg.\n",
    "# Output: Each list should be ordered. A final ordered list will be returned\n",
    "\n",
    "avgmpg[0].sort(key=lambda x: x[0])\n",
    "avgmpg[1].sort(key=lambda x: x[0])\n",
    "avgmpg"
   ]
  },
  {
   "cell_type": "code",
   "execution_count": 5,
   "metadata": {},
   "outputs": [
    {
     "data": {
      "text/html": [
       "<div>\n",
       "<style scoped>\n",
       "    .dataframe tbody tr th:only-of-type {\n",
       "        vertical-align: middle;\n",
       "    }\n",
       "\n",
       "    .dataframe tbody tr th {\n",
       "        vertical-align: top;\n",
       "    }\n",
       "\n",
       "    .dataframe thead th {\n",
       "        text-align: right;\n",
       "    }\n",
       "</style>\n",
       "<table border=\"1\" class=\"dataframe\">\n",
       "  <thead>\n",
       "    <tr style=\"text-align: right;\">\n",
       "      <th></th>\n",
       "      <th>Unnamed: 0</th>\n",
       "      <th>manufacturer</th>\n",
       "      <th>model</th>\n",
       "      <th>displ</th>\n",
       "      <th>year</th>\n",
       "      <th>cyl</th>\n",
       "      <th>trans</th>\n",
       "      <th>drv</th>\n",
       "      <th>cty</th>\n",
       "      <th>hwy</th>\n",
       "      <th>fl</th>\n",
       "      <th>class</th>\n",
       "    </tr>\n",
       "  </thead>\n",
       "  <tbody>\n",
       "    <tr>\n",
       "      <th>0</th>\n",
       "      <td>1</td>\n",
       "      <td>allude</td>\n",
       "      <td>excel</td>\n",
       "      <td>1.8</td>\n",
       "      <td>1999</td>\n",
       "      <td>4</td>\n",
       "      <td>auto(l5)</td>\n",
       "      <td>f</td>\n",
       "      <td>18</td>\n",
       "      <td>29</td>\n",
       "      <td>p</td>\n",
       "      <td>compact</td>\n",
       "    </tr>\n",
       "    <tr>\n",
       "      <th>1</th>\n",
       "      <td>2</td>\n",
       "      <td>allude</td>\n",
       "      <td>excel</td>\n",
       "      <td>1.8</td>\n",
       "      <td>1999</td>\n",
       "      <td>4</td>\n",
       "      <td>manual(m5)</td>\n",
       "      <td>f</td>\n",
       "      <td>21</td>\n",
       "      <td>29</td>\n",
       "      <td>p</td>\n",
       "      <td>compact</td>\n",
       "    </tr>\n",
       "    <tr>\n",
       "      <th>2</th>\n",
       "      <td>3</td>\n",
       "      <td>allude</td>\n",
       "      <td>excel</td>\n",
       "      <td>2.0</td>\n",
       "      <td>2008</td>\n",
       "      <td>4</td>\n",
       "      <td>manual(m6)</td>\n",
       "      <td>f</td>\n",
       "      <td>20</td>\n",
       "      <td>31</td>\n",
       "      <td>p</td>\n",
       "      <td>compact</td>\n",
       "    </tr>\n",
       "    <tr>\n",
       "      <th>3</th>\n",
       "      <td>4</td>\n",
       "      <td>allude</td>\n",
       "      <td>excel</td>\n",
       "      <td>2.0</td>\n",
       "      <td>2008</td>\n",
       "      <td>4</td>\n",
       "      <td>auto(av)</td>\n",
       "      <td>f</td>\n",
       "      <td>21</td>\n",
       "      <td>30</td>\n",
       "      <td>p</td>\n",
       "      <td>compact</td>\n",
       "    </tr>\n",
       "    <tr>\n",
       "      <th>4</th>\n",
       "      <td>5</td>\n",
       "      <td>allude</td>\n",
       "      <td>excel</td>\n",
       "      <td>2.8</td>\n",
       "      <td>1999</td>\n",
       "      <td>6</td>\n",
       "      <td>auto(l5)</td>\n",
       "      <td>f</td>\n",
       "      <td>16</td>\n",
       "      <td>26</td>\n",
       "      <td>p</td>\n",
       "      <td>compact</td>\n",
       "    </tr>\n",
       "  </tbody>\n",
       "</table>\n",
       "</div>"
      ],
      "text/plain": [
       "   Unnamed: 0 manufacturer  model  displ  year  cyl       trans drv  cty  hwy  \\\n",
       "0           1       allude  excel    1.8  1999    4    auto(l5)   f   18   29   \n",
       "1           2       allude  excel    1.8  1999    4  manual(m5)   f   21   29   \n",
       "2           3       allude  excel    2.0  2008    4  manual(m6)   f   20   31   \n",
       "3           4       allude  excel    2.0  2008    4    auto(av)   f   21   30   \n",
       "4           5       allude  excel    2.8  1999    6    auto(l5)   f   16   26   \n",
       "\n",
       "  fl    class  \n",
       "0  p  compact  \n",
       "1  p  compact  \n",
       "2  p  compact  \n",
       "3  p  compact  \n",
       "4  p  compact  "
      ]
     },
     "execution_count": 5,
     "metadata": {},
     "output_type": "execute_result"
    }
   ],
   "source": [
    "# Task 5\n",
    "# Purpose: Import the cars_mpg.csv file into a pandas dataframe. Display the head.\n",
    "# Output: The first 5 rows of cars_mpg.csv\n",
    "\n",
    "import pandas as pd\n",
    "from pandas import DataFrame, Series\n",
    "df = pd.read_csv('cars_mpg.csv')\n",
    "df.head()"
   ]
  },
  {
   "cell_type": "code",
   "execution_count": 6,
   "metadata": {},
   "outputs": [
    {
     "name": "stdout",
     "output_type": "stream",
     "text": [
      "Max MPG for City Driving: 35\n",
      "Max MPG for Highway Driving: 44\n"
     ]
    }
   ],
   "source": [
    "# Task 6\n",
    "# Purpose: Calculate the max mpg for both city and highway driving using dataframes.\n",
    "# Output: Two strings displaying the max mpg for city driving and highway driving.\n",
    "\n",
    "city_max = df['cty'].max()\n",
    "highway_max = df['hwy'].max()\n",
    "\n",
    "print('Max MPG for City Driving: %d' % city_max)\n",
    "print('Max MPG for Highway Driving: %d' % highway_max)"
   ]
  },
  {
   "cell_type": "code",
   "execution_count": 7,
   "metadata": {},
   "outputs": [
    {
     "data": {
      "text/html": [
       "<div>\n",
       "<style scoped>\n",
       "    .dataframe tbody tr th:only-of-type {\n",
       "        vertical-align: middle;\n",
       "    }\n",
       "\n",
       "    .dataframe tbody tr th {\n",
       "        vertical-align: top;\n",
       "    }\n",
       "\n",
       "    .dataframe thead th {\n",
       "        text-align: right;\n",
       "    }\n",
       "</style>\n",
       "<table border=\"1\" class=\"dataframe\">\n",
       "  <thead>\n",
       "    <tr style=\"text-align: right;\">\n",
       "      <th></th>\n",
       "      <th>Type</th>\n",
       "      <th>Average</th>\n",
       "    </tr>\n",
       "  </thead>\n",
       "  <tbody>\n",
       "    <tr>\n",
       "      <th>0</th>\n",
       "      <td>City Driving</td>\n",
       "      <td>16.858974</td>\n",
       "    </tr>\n",
       "    <tr>\n",
       "      <th>1</th>\n",
       "      <td>Highway Driving</td>\n",
       "      <td>23.440171</td>\n",
       "    </tr>\n",
       "  </tbody>\n",
       "</table>\n",
       "</div>"
      ],
      "text/plain": [
       "              Type    Average\n",
       "0     City Driving  16.858974\n",
       "1  Highway Driving  23.440171"
      ]
     },
     "execution_count": 7,
     "metadata": {},
     "output_type": "execute_result"
    }
   ],
   "source": [
    "# Task 7\n",
    "# Purpose: Calculate the average mpg for city driving and average mpg for highway driving and store the results\n",
    "# in a dataframe with the column names being mpg_city and mpg_highway\n",
    "# Output: Dataframe of average mpg for city and highway driving\n",
    "\n",
    "city_avg = df['cty'].mean()\n",
    "highway_avg = df['hwy'].mean()\n",
    "df1 = pd.DataFrame([['City Driving', city_avg],['Highway Driving', highway_avg]], columns=['Type','Average'])\n",
    "df1"
   ]
  },
  {
   "cell_type": "code",
   "execution_count": 9,
   "metadata": {},
   "outputs": [
    {
     "data": {
      "text/plain": [
       "<matplotlib.axes._subplots.AxesSubplot at 0x11e9c36d8>"
      ]
     },
     "execution_count": 9,
     "metadata": {},
     "output_type": "execute_result"
    },
    {
     "data": {
      "image/png": "[encoded data removed]",
      "text/plain": [
       "<Figure size 432x288 with 1 Axes>"
      ]
     },
     "metadata": {
      "needs_background": "light"
     },
     "output_type": "display_data"
    }
   ],
   "source": [
    "# Task 8\n",
    "# Purpose: Plot the mpg for highway driving\n",
    "# Output: Bar graph of miles per gallen for highway driving\n",
    "import matplotlib.pyplot as plt\n",
    "df['hwy'].plot.bar()"
   ]
  },
  {
   "cell_type": "code",
   "execution_count": null,
   "metadata": {},
   "outputs": [],
   "source": []
  }
 ],
 "metadata": {
  "kernelspec": {
   "display_name": "Python 3",
   "language": "python",
   "name": "python3"
  },
  "language_info": {
   "codemirror_mode": {
    "name": "ipython",
    "version": 3
   },
   "file_extension": ".py",
   "mimetype": "text/x-python",
   "name": "python",
   "nbconvert_exporter": "python",
   "pygments_lexer": "ipython3",
   "version": "3.7.3"
  }
 },
 "nbformat": 4,
 "nbformat_minor": 2
}
